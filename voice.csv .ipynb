{
 "cells": [
  {
   "cell_type": "code",
   "execution_count": 1,
   "metadata": {},
   "outputs": [
    {
     "name": "stdout",
     "output_type": "stream",
     "text": [
      "      meanfreq        sd    median       Q25       Q75       IQR       skew  \\\n",
      "0     0.059781  0.064241  0.032027  0.015071  0.090193  0.075122  12.863462   \n",
      "1     0.066009  0.067310  0.040229  0.019414  0.092666  0.073252  22.423285   \n",
      "2     0.077316  0.083829  0.036718  0.008701  0.131908  0.123207  30.757155   \n",
      "3     0.151228  0.072111  0.158011  0.096582  0.207955  0.111374   1.232831   \n",
      "4     0.135120  0.079146  0.124656  0.078720  0.206045  0.127325   1.101174   \n",
      "...        ...       ...       ...       ...       ...       ...        ...   \n",
      "3163  0.131884  0.084734  0.153707  0.049285  0.201144  0.151859   1.762129   \n",
      "3164  0.116221  0.089221  0.076758  0.042718  0.204911  0.162193   0.693730   \n",
      "3165  0.142056  0.095798  0.183731  0.033424  0.224360  0.190936   1.876502   \n",
      "3166  0.143659  0.090628  0.184976  0.043508  0.219943  0.176435   1.591065   \n",
      "3167  0.165509  0.092884  0.183044  0.070072  0.250827  0.180756   1.705029   \n",
      "\n",
      "             kurt    sp.ent       sfm      mode  centroid   meanfun    minfun  \\\n",
      "0      274.402906  0.893369  0.491918  0.000000  0.059781  0.084279  0.015702   \n",
      "1      634.613855  0.892193  0.513724  0.000000  0.066009  0.107937  0.015826   \n",
      "2     1024.927705  0.846389  0.478905  0.000000  0.077316  0.098706  0.015656   \n",
      "3        4.177296  0.963322  0.727232  0.083878  0.151228  0.088965  0.017798   \n",
      "4        4.333713  0.971955  0.783568  0.104261  0.135120  0.106398  0.016931   \n",
      "...           ...       ...       ...       ...       ...       ...       ...   \n",
      "3163     6.630383  0.962934  0.763182  0.200836  0.131884  0.182790  0.083770   \n",
      "3164     2.503954  0.960716  0.709570  0.013683  0.116221  0.188980  0.034409   \n",
      "3165     6.604509  0.946854  0.654196  0.008006  0.142056  0.209918  0.039506   \n",
      "3166     5.388298  0.950436  0.675470  0.212202  0.143659  0.172375  0.034483   \n",
      "3167     5.769115  0.938829  0.601529  0.267702  0.165509  0.185607  0.062257   \n",
      "\n",
      "        maxfun   meandom    mindom    maxdom   dfrange   modindx   label  \n",
      "0     0.275862  0.007812  0.007812  0.007812  0.000000  0.000000    male  \n",
      "1     0.250000  0.009014  0.007812  0.054688  0.046875  0.052632    male  \n",
      "2     0.271186  0.007990  0.007812  0.015625  0.007812  0.046512    male  \n",
      "3     0.250000  0.201497  0.007812  0.562500  0.554688  0.247119    male  \n",
      "4     0.266667  0.712812  0.007812  5.484375  5.476562  0.208274    male  \n",
      "...        ...       ...       ...       ...       ...       ...     ...  \n",
      "3163  0.262295  0.832899  0.007812  4.210938  4.203125  0.161929  female  \n",
      "3164  0.275862  0.909856  0.039062  3.679688  3.640625  0.277897  female  \n",
      "3165  0.275862  0.494271  0.007812  2.937500  2.929688  0.194759  female  \n",
      "3166  0.250000  0.791360  0.007812  3.593750  3.585938  0.311002  female  \n",
      "3167  0.271186  0.227022  0.007812  0.554688  0.546875  0.350000  female  \n",
      "\n",
      "[3168 rows x 21 columns]\n",
      "(3168, 21)\n",
      "meanfreq    0\n",
      "sd          0\n",
      "median      0\n",
      "Q25         0\n",
      "Q75         0\n",
      "IQR         0\n",
      "skew        0\n",
      "kurt        0\n",
      "sp.ent      0\n",
      "sfm         0\n",
      "mode        0\n",
      "centroid    0\n",
      "meanfun     0\n",
      "minfun      0\n",
      "maxfun      0\n",
      "meandom     0\n",
      "mindom      0\n",
      "maxdom      0\n",
      "dfrange     0\n",
      "modindx     0\n",
      "label       0\n",
      "dtype: int64\n",
      "样本个数：3168\n",
      "男性个数：1584\n",
      "女性个数：1584\n"
     ]
    }
   ],
   "source": [
    "import pandas as pd\n",
    "\n",
    "#数据加载\n",
    "data = pd.read_csv('./voice.csv')\n",
    "#简单数据探索\n",
    "pd.set_option('display.max_columns',50)  #将控制台最大打印显示列数调整为50\n",
    "print(data)\n",
    "print(data.shape)  #共3168行  21个字段\n",
    "print(data.isnull().sum())  #共21个字段字段为空的（缺失值）数量为0，不用做数据补全\n",
    "print('样本个数：{}'.format(data.shape[0]))  #format函数可将结果替换到{}的位置\n",
    "print('男性个数：{}'.format(data[data.label == 'male'].shape[0]))#查看男性个数和女性个数 均为1584 \n",
    "print('女性个数：{}'.format(data[data.label == 'female'].shape[0]))\n"
   ]
  },
  {
   "cell_type": "code",
   "execution_count": 2,
   "metadata": {},
   "outputs": [
    {
     "name": "stdout",
     "output_type": "stream",
     "text": [
      "[1 1 1 ... 0 0 0]\n"
     ]
    }
   ],
   "source": [
    "#数据切分，分离特征和label\n",
    "feature = data.iloc[:,:-1] #iloc（行，列）   此处为iloc[所有行：开始 到 倒数第一列]\n",
    "label = data.iloc[:,-1] #同上   只取最后一列，所有行\n",
    "\n",
    "#因为性别列为字符串类型，需要转换为数字类型才可参与运算，所以需要将label进行标签编码\n",
    "from sklearn.preprocessing import LabelEncoder,StandardScaler\n",
    "gender_encoder = LabelEncoder()\n",
    "label = gender_encoder.fit_transform(label)\n",
    "print(label) #查看转换后结果 [1 1 1 ... 0 0 0]\n",
    "\n",
    "scaler = StandardScaler() #数据标准化 消除奇异样本数据导致的不良影响\n",
    "feature = scaler.fit_transform(feature)\n"
   ]
  },
  {
   "cell_type": "code",
   "execution_count": 3,
   "metadata": {},
   "outputs": [],
   "source": [
    "#进行训练集，测试机切分\n",
    "from sklearn.model_selection import train_test_split\n",
    "x_train,x_test,y_train,y_test = train_test_split(feature,label,test_size = 0.2)\n"
   ]
  },
  {
   "cell_type": "code",
   "execution_count": 4,
   "metadata": {},
   "outputs": [
    {
     "name": "stdout",
     "output_type": "stream",
     "text": [
      "SVM 预测准确率：0.9842271293375394\n"
     ]
    }
   ],
   "source": [
    "#训练模型\n",
    "from sklearn.svm import SVC\n",
    "from sklearn.metrics import accuracy_score\n",
    "\n",
    "#svc\n",
    "model = SVC()\n",
    "model.fit(x_train,y_train)\n",
    "y_pred = model.predict(x_test)\n",
    "#print('SVM 预测结果：{}'.format(y_pred))\n",
    "print('SVM 预测准确率：{}'.format(accuracy_score(y_pred,y_test)))\n"
   ]
  },
  {
   "cell_type": "code",
   "execution_count": 5,
   "metadata": {},
   "outputs": [
    {
     "name": "stdout",
     "output_type": "stream",
     "text": [
      "SVM线性 预测准确率：0.9700315457413249\n"
     ]
    }
   ],
   "source": [
    "#线性svc\n",
    "model = SVC(kernel='linear')\n",
    "model.fit(x_train,y_train)\n",
    "y_pred = model.predict(x_test)\n",
    "#print('SVM线性 预测结果：{}'.format(y_pred))\n",
    "print('SVM线性 预测准确率：{}'.format(accuracy_score(y_pred,y_test)))\n"
   ]
  },
  {
   "cell_type": "code",
   "execution_count": 7,
   "metadata": {},
   "outputs": [
    {
     "name": "stdout",
     "output_type": "stream",
     "text": [
      "[22:18:37] WARNING: C:\\Users\\Administrator\\workspace\\xgboost-win64_release_1.2.0\\src\\learner.cc:516: \n",
      "Parameters: { boosting_type, subsample_freq } might not be used.\n",
      "\n",
      "  This may not be accurate due to some parameters are only used in language bindings but\n",
      "  passed down to XGBoost core.  Or some parameters are not used but slip through this\n",
      "  verification. Please open an issue if you find above cases.\n",
      "\n",
      "\n",
      "[0]\ttrain-auc:0.98953\tvalid-auc:0.99316\n",
      "Multiple eval metrics have been passed: 'valid-auc' will be used for early stopping.\n",
      "\n",
      "Will train until valid-auc hasn't improved in 25 rounds.\n",
      "[25]\ttrain-auc:0.99894\tvalid-auc:0.99840\n",
      "[50]\ttrain-auc:0.99898\tvalid-auc:0.99838\n",
      "Stopping. Best iteration:\n",
      "[28]\ttrain-auc:0.99895\tvalid-auc:0.99845\n",
      "\n",
      "xgboost 预测准确率：0.9794952681388013\n"
     ]
    }
   ],
   "source": [
    "#xgboost\n",
    "import xgboost as xgb\n",
    "param = {'boosting_type':'gbdt',\n",
    "                         'objective' : 'binary:logistic', #\n",
    "                         'eval_metric' : 'auc',\n",
    "                         'eta' : 0.01,\n",
    "                         'max_depth' : 15,\n",
    "                         'colsample_bytree':0.8,\n",
    "                         'subsample': 0.9,\n",
    "                         'subsample_freq': 8,\n",
    "                         'alpha': 0.6,\n",
    "                         'lambda': 0,\n",
    "        }\n",
    "train_data = xgb.DMatrix(x_train, y_train)\n",
    "test_data = xgb.DMatrix(x_test, y_test)\n",
    "model = xgb.train(param, train_data, evals=[(train_data, 'train'), (test_data, 'valid')], num_boost_round = 3000, early_stopping_rounds=25, verbose_eval=25)\n",
    "predict = model.predict(test_data)\n",
    "predict = [1 if x >=0.5 else 0 for x in predict]\n",
    "#print('xgboost 预测结果：{}'.format(predict))\n",
    "print('xgboost 预测准确率：{}'.format(accuracy_score(predict,y_test)))"
   ]
  },
  {
   "cell_type": "code",
   "execution_count": null,
   "metadata": {},
   "outputs": [],
   "source": []
  }
 ],
 "metadata": {
  "kernelspec": {
   "display_name": "Python 3",
   "language": "python",
   "name": "python3"
  },
  "language_info": {
   "codemirror_mode": {
    "name": "ipython",
    "version": 3
   },
   "file_extension": ".py",
   "mimetype": "text/x-python",
   "name": "python",
   "nbconvert_exporter": "python",
   "pygments_lexer": "ipython3",
   "version": "3.7.4"
  }
 },
 "nbformat": 4,
 "nbformat_minor": 2
}
